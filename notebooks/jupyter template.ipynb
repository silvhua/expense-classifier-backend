{
 "cells": [
  {
   "attachments": {},
   "cell_type": "markdown",
   "metadata": {},
   "source": [
    "# Title\n",
    "[]()"
   ]
  },
  {
   "cell_type": "code",
   "execution_count": 2,
   "metadata": {},
   "outputs": [],
   "source": [
    "\n",
    "import pandas as pd\n",
    "import sys\n",
    "sys.path.append(r\"/Users/silvh/Library/CloudStorage/OneDrive-Personal/lighthouse/custom_python\")\n",
    "from silvhua import *"
   ]
  },
  {
   "cell_type": "code",
   "execution_count": 3,
   "metadata": {},
   "outputs": [],
   "source": [
    "# set the option to wrap text within cells\n",
    "pd.set_option('display.max_colwidth', 100)\n",
    "# pd.set_option('display.max_colwidth', None)\n",
    "pd.set_option('display.max_rows', 20)\n",
    "pd.set_option('display.max_columns', None)\n",
    "pd.set_option('display.width', None)"
   ]
  },
  {
   "cell_type": "code",
   "execution_count": 2,
   "metadata": {},
   "outputs": [
    {
     "ename": "ModuleNotFoundError",
     "evalue": "No module named 'pandas'",
     "output_type": "error",
     "traceback": [
      "\u001b[0;31m---------------------------------------------------------------------------\u001b[0m",
      "\u001b[0;31mModuleNotFoundError\u001b[0m                       Traceback (most recent call last)",
      "Cell \u001b[0;32mIn[2], line 5\u001b[0m\n\u001b[1;32m      3\u001b[0m \u001b[38;5;28;01mimport\u001b[39;00m \u001b[38;5;21;01mjson\u001b[39;00m\n\u001b[1;32m      4\u001b[0m \u001b[38;5;28;01mfrom\u001b[39;00m \u001b[38;5;21;01mCustom_Logger\u001b[39;00m \u001b[38;5;28;01mimport\u001b[39;00m \u001b[38;5;241m*\u001b[39m\n\u001b[0;32m----> 5\u001b[0m \u001b[38;5;28;01mfrom\u001b[39;00m \u001b[38;5;21;01mReceiptParser\u001b[39;00m \u001b[38;5;28;01mimport\u001b[39;00m \u001b[38;5;241m*\u001b[39m\n\u001b[1;32m      6\u001b[0m \u001b[38;5;28;01mfrom\u001b[39;00m \u001b[38;5;21;01mutils\u001b[39;00m \u001b[38;5;28;01mimport\u001b[39;00m load_json\n\u001b[1;32m      7\u001b[0m \u001b[38;5;66;03m# from openai import OpenAI\u001b[39;00m\n",
      "File \u001b[0;32m~/Library/CloudStorage/OneDrive-Personal/datajam/expense-classifier-backend/notebooks/../src/ReceiptParser.py:3\u001b[0m\n\u001b[1;32m      1\u001b[0m \u001b[38;5;66;03m# import sys\u001b[39;00m\n\u001b[1;32m      2\u001b[0m \u001b[38;5;66;03m# sys.path.append('/Users/silvh/Library/Python/3.9/lib/python/site-packages')\u001b[39;00m\n\u001b[0;32m----> 3\u001b[0m \u001b[38;5;28;01mimport\u001b[39;00m \u001b[38;5;21;01mpandas\u001b[39;00m \u001b[38;5;28;01mas\u001b[39;00m \u001b[38;5;21;01mpd\u001b[39;00m\n\u001b[1;32m      4\u001b[0m \u001b[38;5;66;03m# import numpy as np\u001b[39;00m\n\u001b[1;32m      5\u001b[0m \u001b[38;5;28;01mfrom\u001b[39;00m \u001b[38;5;21;01mgoogle\u001b[39;00m\u001b[38;5;21;01m.\u001b[39;00m\u001b[38;5;21;01mcloud\u001b[39;00m \u001b[38;5;28;01mimport\u001b[39;00m documentai_v1 \u001b[38;5;28;01mas\u001b[39;00m documentai\n",
      "\u001b[0;31mModuleNotFoundError\u001b[0m: No module named 'pandas'"
     ]
    }
   ],
   "source": [
    "import sys\n",
    "sys.path.append('../src')\n",
    "import json\n",
    "from Custom_Logger import *\n",
    "from ReceiptParser import *\n",
    "from utils import load_json\n",
    "# from openai import OpenAI\n",
    "\n",
    "\n",
    "def lambda_handler(event, context):\n",
    "    \"\"\"Sample pure Lambda function\n",
    "\n",
    "    Parameters\n",
    "    ----------\n",
    "    event: dict, required\n",
    "        API Gateway Lambda Proxy Input Format\n",
    "\n",
    "        Event doc: https://docs.aws.amazon.com/apigateway/latest/developerguide/set-up-lambda-proxy-integrations.html#api-gateway-simple-proxy-for-lambda-input-format\n",
    "\n",
    "    context: object, required\n",
    "        Lambda Context runtime methods and attributes\n",
    "\n",
    "        Context doc: https://docs.aws.amazon.com/lambda/latest/dg/python-context-object.html\n",
    "\n",
    "    Returns\n",
    "    ------\n",
    "    API Gateway Lambda Proxy Output Format: dict\n",
    "\n",
    "        Return doc: https://docs.aws.amazon.com/apigateway/latest/developerguide/set-up-lambda-proxy-integrations.html\n",
    "    \"\"\"\n",
    "    messages = []\n",
    "    try:\n",
    "        if type(event.get('body')) == str:\n",
    "            payload = json.loads(event[\"body\"])\n",
    "        else:\n",
    "            payload = event.get('body')\n",
    "        name = payload.get('name')\n",
    "\n",
    "        with open(os.environ.get('GOOGLE_APPLICATION_CREDENTIALS_PATH')) as file:\n",
    "            credentials = json.load(file)\n",
    "        print(f'Credentials: {credentials}')\n",
    "    \n",
    "        message = f'Hello, {name}!'\n",
    "        messages.append(message)\n",
    "        messages.append(json.dumps(credentials))\n",
    "        local_invoke = event.get('direct_local_invoke', None)\n",
    "        logging_level = logging.DEBUG if local_invoke else logging.INFO\n",
    "        logger = Custom_Logger(__name__, level=logging_level)\n",
    "        logger.info(f'Payload: {payload}\\nLocal invoke: {local_invoke}')\n",
    "\n",
    "        PROJECT_ID = \"datajam-438419\"\n",
    "        LOCATION = \"us\"  # Format is 'us' or 'eu'\n",
    "        PROCESSOR_ID = \"e781102d22fb3b53\"  # Create processor in Cloud Console\n",
    "\n",
    "        # The local file in your current working directory\n",
    "        file_name = '2021-12-18 Klokov weightlifting seminar receipt.pdf'\n",
    "        file_path = ''\n",
    "\n",
    "        parser = ReceiptParser(\n",
    "            project_id=PROJECT_ID,\n",
    "            location=LOCATION,\n",
    "            processor_id=PROCESSOR_ID\n",
    "        ) \n",
    "\n",
    "        ### Parse a folder\n",
    "        # receipts = parser.parse_folder(\n",
    "        #     folder_path=file_path,\n",
    "        #     save_path='../data/pickles'\n",
    "        # )\n",
    "\n",
    "        ## Parse a single file\n",
    "        receipt = parser.parse(\n",
    "            file_name=file_name,\n",
    "            file_path=file_path,\n",
    "        )\n",
    "        receipt_df = parser.process()\n",
    "        messages.append(f'Receipt parsed successfully. DataFrame Shape: {receipt_df.shape}')\n",
    "        print(receipt_df)\n",
    "        if local_invoke:\n",
    "            return receipt_df\n",
    "        status_code = 200\n",
    "    except Exception as error:\n",
    "        exc_type, exc_obj, tb = sys.exc_info()\n",
    "        f = tb.tb_frame\n",
    "        lineno = tb.tb_lineno\n",
    "        filename = f.f_code.co_filename\n",
    "        message = f'[ERROR] An error occurred on line {lineno} in {filename}: {error}.'\n",
    "        messages.append(message)\n",
    "        \n",
    "        print(f'\\nOriginal payload: {event.get(\"payload\")}\\n')\n",
    "        print(message)\n",
    "        status_code = 500\n",
    "    return {\n",
    "        \"statusCode\": status_code,\n",
    "        \"body\": json.dumps(\"\".join([f\"{message}\\n\" for message in messages])),\n",
    "    }\n",
    "\n",
    "if __name__ == \"__main__\":\n",
    "    # take an argument from the command line\n",
    "    filepath = sys.argv[1] if len(sys.argv) > 1 else '../events/event.json'\n",
    "    event = load_json(\n",
    "        filename = filepath,\n",
    "        filepath = ''\n",
    "    )\n",
    "    \n",
    "    df = lambda_handler(event, None)"
   ]
  },
  {
   "cell_type": "code",
   "execution_count": null,
   "metadata": {},
   "outputs": [],
   "source": []
  },
  {
   "cell_type": "code",
   "execution_count": null,
   "metadata": {},
   "outputs": [],
   "source": []
  },
  {
   "cell_type": "code",
   "execution_count": null,
   "metadata": {},
   "outputs": [],
   "source": []
  },
  {
   "cell_type": "code",
   "execution_count": null,
   "metadata": {},
   "outputs": [],
   "source": []
  },
  {
   "cell_type": "code",
   "execution_count": null,
   "metadata": {},
   "outputs": [],
   "source": []
  },
  {
   "cell_type": "code",
   "execution_count": null,
   "metadata": {},
   "outputs": [],
   "source": []
  },
  {
   "cell_type": "code",
   "execution_count": null,
   "metadata": {},
   "outputs": [],
   "source": []
  },
  {
   "cell_type": "code",
   "execution_count": null,
   "metadata": {},
   "outputs": [],
   "source": []
  },
  {
   "cell_type": "code",
   "execution_count": null,
   "metadata": {},
   "outputs": [],
   "source": []
  },
  {
   "cell_type": "code",
   "execution_count": null,
   "metadata": {},
   "outputs": [],
   "source": []
  },
  {
   "cell_type": "code",
   "execution_count": null,
   "metadata": {},
   "outputs": [],
   "source": []
  },
  {
   "cell_type": "code",
   "execution_count": null,
   "metadata": {},
   "outputs": [],
   "source": []
  },
  {
   "cell_type": "code",
   "execution_count": null,
   "metadata": {},
   "outputs": [],
   "source": []
  },
  {
   "cell_type": "code",
   "execution_count": null,
   "metadata": {},
   "outputs": [],
   "source": []
  },
  {
   "cell_type": "code",
   "execution_count": null,
   "metadata": {},
   "outputs": [],
   "source": []
  },
  {
   "cell_type": "code",
   "execution_count": null,
   "metadata": {},
   "outputs": [],
   "source": []
  },
  {
   "cell_type": "code",
   "execution_count": null,
   "metadata": {},
   "outputs": [],
   "source": []
  },
  {
   "cell_type": "code",
   "execution_count": null,
   "metadata": {},
   "outputs": [],
   "source": []
  },
  {
   "cell_type": "code",
   "execution_count": null,
   "metadata": {},
   "outputs": [],
   "source": []
  },
  {
   "cell_type": "code",
   "execution_count": null,
   "metadata": {},
   "outputs": [],
   "source": []
  },
  {
   "attachments": {},
   "cell_type": "markdown",
   "metadata": {},
   "source": [
    "# *End of Page*"
   ]
  }
 ],
 "metadata": {
  "kernelspec": {
   "display_name": "gcp",
   "language": "python",
   "name": "python3"
  },
  "language_info": {
   "codemirror_mode": {
    "name": "ipython",
    "version": 3
   },
   "file_extension": ".py",
   "mimetype": "text/x-python",
   "name": "python",
   "nbconvert_exporter": "python",
   "pygments_lexer": "ipython3",
   "version": "3.10.15"
  },
  "orig_nbformat": 4
 },
 "nbformat": 4,
 "nbformat_minor": 2
}
